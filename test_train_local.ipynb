{
 "cells": [
  {
   "cell_type": "code",
   "execution_count": 3,
   "metadata": {},
   "outputs": [],
   "source": [
    "import os\n",
    "import argparse\n",
    "import pandas as pd\n",
    "import mlflow\n",
    "from mlflow.tracking.client import MlflowClient\n",
    "from dotenv import load_dotenv\n",
    "from sklearn.model_selection import train_test_split\n",
    "from sklearn.linear_model import LinearRegression\n",
    "from sklearn.metrics import mean_squared_error"
   ]
  },
  {
   "cell_type": "code",
   "execution_count": 4,
   "metadata": {},
   "outputs": [],
   "source": [
    "# Download Data - needs to be run in working-directory as src/train.py\n",
    "def download_data(color, year, month):\n",
    "    # Check if data is already downloaded\n",
    "    if not os.path.exists(f\"./data/{color}_tripdata_{year}-{month:02d}.parquet\"):\n",
    "        print(f\"Downloading {color}_tripdata_{year}-{month:02d}.parquet\")\n",
    "        os.system(f\"wget -P ./data https://d37ci6vzurychx.cloudfront.net/trip-data/{color}_tripdata_{year}-{month:02d}.parquet\")\n",
    "        print(\"Download finished\")\n",
    "    # Load the data\n",
    "    print(f\"Reading {color}_tripdata_{year}-{month:02d}.parquet\")\n",
    "    df = pd.read_parquet(f\"./data/{color}_tripdata_{year}-{month:02d}.parquet\")\n",
    "    print(\"Import finished\")\n",
    "    return df"
   ]
  },
  {
   "cell_type": "code",
   "execution_count": 5,
   "metadata": {},
   "outputs": [],
   "source": [
    "# Helper function to calculate trip duration\n",
    "def calculate_trip_duration_in_minutes(df, features = features, target = target):\n",
    "    df[\"duration\"] = (df[\"lpep_dropoff_datetime\"] - df[\"lpep_pickup_datetime\"]).dt.total_seconds() / 60\n",
    "    df = df[(df[\"duration\"] >= 1) & (df[\"duration\"] <= 60)]\n",
    "    df = df[(df['passenger_count'] > 0) & (df['passenger_count'] < 8)]\n",
    "    features.append(target)\n",
    "    #df = df[features]\n",
    "    print(features)"
   ]
  },
  {
   "cell_type": "code",
   "execution_count": 6,
   "metadata": {},
   "outputs": [],
   "source": [
    "# Preprocessing steps including trip_duration\n",
    "def preprocess(df, features = features, target = target):\n",
    "    df = df.copy()\n",
    "    df_processed = calculate_trip_duration_in_minutes(df)\n",
    "\n",
    "    y = df_processed[target]\n",
    "    X = df_processed.drop(columns=[target])\n",
    "\n",
    "    X_train, X_test, y_train, y_test = train_test_split(\n",
    "        X, y, random_state=42, test_size=0.2\n",
    "    )\n",
    "    return X_train, X_test, y_train, y_test"
   ]
  },
  {
   "cell_type": "code",
   "execution_count": 7,
   "metadata": {},
   "outputs": [],
   "source": [
    "# Model Training\n",
    "def train_model(X_train, X_test, y_train, y_test, color, year, month, features = features, target = target):\n",
    "    \n",
    "    # load and set environment variables\n",
    "    load_dotenv()\n",
    "\n",
    "    MLFLOW_TRACKING_URI = os.getenv(\"MLFLOW_TRACKING_URI\")\n",
    "    SA_KEY= os.getenv(\"SA_KEY\")\n",
    "    os.environ[\"GOOGLE_APPLICATION_CREDENTIALS\"] = SA_KEY\n",
    "\n",
    "    mlflow.set_tracking_uri(MLFLOW_TRACKING_URI)\n",
    "    client = MlflowClient(tracking_uri=MLFLOW_TRACKING_URI)\n",
    "\n",
    "    print(\"Starting ML-Flow-Run\")\n",
    "    with mlflow.start_run():\n",
    "    \n",
    "        tags = {\n",
    "            \"model\": \"linear regression\",\n",
    "            \"developer\": \"Gunnar\",\n",
    "            \"dataset\": f\"{color}-taxi\",\n",
    "            \"year\": year,\n",
    "            \"month\": month,\n",
    "            \"features\": features,\n",
    "            \"target\": target\n",
    "        }\n",
    "        mlflow.set_tags(tags)\n",
    "        \n",
    "        lr = LinearRegression()\n",
    "        lr.fit(X_train, y_train)\n",
    "    \n",
    "        y_pred = lr.predict(X_test)\n",
    "        rmse = mean_squared_error(y_test, y_pred, squared=False)\n",
    "        mlflow.log_metric(\"rmse\", rmse)\n",
    "    \n",
    "        mlflow.sklearn.log_model(lr, \"model\")\n",
    "        run_id = mlflow.active_run().info.run_id\n",
    "\n",
    "        model_uri = f\"runs:/{run_id}/model\"\n",
    "        model_name = f\"{color}-taxi-ride-duration-3\"\n",
    "        mlflow.register_model(model_uri=model_uri, name=model_name)\n",
    "\n",
    "        model_version = 1\n",
    "        new_stage = \"Production\"\n",
    "        client.transition_model_version_stage(\n",
    "        name=model_name,\n",
    "        version=model_version,\n",
    "        stage=new_stage,\n",
    "        archive_existing_versions=False\n",
    "    )\n",
    "    print(\"model-training finished\")"
   ]
  },
  {
   "cell_type": "code",
   "execution_count": 8,
   "metadata": {},
   "outputs": [],
   "source": [
    "def main_train_model(color, year, month):\n",
    "\n",
    "    # Download data\n",
    "    df_taxi = download_data(color, year, month)\n",
    "\n",
    "    # preprocess data\n",
    "    X_train, X_test, y_train, y_test = preprocess(df_taxi)\n",
    "    train_model(X_train, X_test, y_train, y_test, color, year, month)"
   ]
  },
  {
   "cell_type": "code",
   "execution_count": 9,
   "metadata": {},
   "outputs": [],
   "source": [
    "color = \"green\"\n",
    "year = 2021\n",
    "month = 1"
   ]
  },
  {
   "cell_type": "code",
   "execution_count": 10,
   "metadata": {},
   "outputs": [
    {
     "name": "stdout",
     "output_type": "stream",
     "text": [
      "Reading green_tripdata_2021-01.parquet\n",
      "Import finished\n"
     ]
    },
    {
     "data": {
      "text/plain": [
       "Index(['VendorID', 'lpep_pickup_datetime', 'lpep_dropoff_datetime',\n",
       "       'store_and_fwd_flag', 'RatecodeID', 'PULocationID', 'DOLocationID',\n",
       "       'passenger_count', 'trip_distance', 'fare_amount', 'extra', 'mta_tax',\n",
       "       'tip_amount', 'tolls_amount', 'ehail_fee', 'improvement_surcharge',\n",
       "       'total_amount', 'payment_type', 'trip_type', 'congestion_surcharge'],\n",
       "      dtype='object')"
      ]
     },
     "execution_count": 10,
     "metadata": {},
     "output_type": "execute_result"
    }
   ],
   "source": [
    "# Download data\n",
    "df_taxi = download_data(color, year, month)\n",
    "df_taxi.columns"
   ]
  },
  {
   "cell_type": "code",
   "execution_count": 11,
   "metadata": {},
   "outputs": [
    {
     "name": "stdout",
     "output_type": "stream",
     "text": [
      "['PULocationID', 'DOLocationID', 'trip_distance', 'passenger_count', 'fare_amount', 'total_amount', 'duration']\n",
      "duration\n",
      "None\n"
     ]
    }
   ],
   "source": [
    "features = [\"PULocationID\", \"DOLocationID\", \"trip_distance\", \"passenger_count\", \n",
    "                \"fare_amount\", \"total_amount\"]\n",
    "target = \"duration\"\n",
    "calculate_trip_duration_in_minutes(df_taxi)"
   ]
  }
 ],
 "metadata": {
  "kernelspec": {
   "display_name": ".venv",
   "language": "python",
   "name": "python3"
  },
  "language_info": {
   "codemirror_mode": {
    "name": "ipython",
    "version": 3
   },
   "file_extension": ".py",
   "mimetype": "text/x-python",
   "name": "python",
   "nbconvert_exporter": "python",
   "pygments_lexer": "ipython3",
   "version": "3.11.3"
  },
  "orig_nbformat": 4
 },
 "nbformat": 4,
 "nbformat_minor": 2
}
